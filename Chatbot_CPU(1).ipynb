{
 "cells": [
  {
   "cell_type": "code",
   "execution_count": 33,
   "metadata": {},
   "outputs": [],
   "source": [
    "import pandas as pd"
   ]
  },
  {
   "cell_type": "code",
   "execution_count": 34,
   "metadata": {},
   "outputs": [],
   "source": [
    "minimal_train=[\n",
    "    {\n",
    "        \"personality\": [\n",
    "            \"i like computers .\",\n",
    "            \"i like reading books .\",\n",
    "            \"i like talking to chatbots .\",\n",
    "            \"i love listening to classical music .\"\n",
    "        ],\n",
    "        \"utterances\": [\n",
    "            {\n",
    "                \"candidates\": [\n",
    "                    \"i try to wear all black every day . it makes me feel comfortable .\",\n",
    "                    \"well nursing stresses you out so i wish luck with sister\",\n",
    "                    \"yeah just want to pick up nba nfl getting old\",\n",
    "                    \"i really like celine dion . what about you ?\",\n",
    "                    \"no . i live near farms .\",\n",
    "                    \"mother taught me to cook ! we are looking for an exterminator .\",\n",
    "                    \"i enjoy romantic movie . what is your favorite season ? mine is summer .\",\n",
    "                    \"editing photos takes a lot of work .\",\n",
    "                    \"you must be very fast . hunting is one of my favorite hobbies .\",\n",
    "                    \"hi there . i'm feeling great! how about you ?\"\n",
    "                ],\n",
    "                \"history\": [\n",
    "                    \"hi , how are you ?\"\n",
    "                ]\n",
    "            },\n",
    "            {\n",
    "                \"candidates\": [\n",
    "                    \"i have trouble getting along with family .\",\n",
    "                    \"i live in texas , what kind of stuff do you do in \",\n",
    "                    \"toronto ?\",\n",
    "                    \"that's so unique ! veganism and line dancing usually don't mix !\",\n",
    "                    \"no , it isn't that big . do you travel a lot\",\n",
    "                    \"that's because they are real ; what do you do for work ?\",\n",
    "                    \"i am lazy all day lol . my mom wants me to get a job and move out\",\n",
    "                    \"i was born on arbor day , so plant a tree in my name\",\n",
    "                    \"okay , i should not tell you , its against the rules \",\n",
    "                    \"i like to talk to chatbots too ! do you know why ? .\"\n",
    "                ],\n",
    "                \"history\": [\n",
    "                    \"hi , how are you ?\",\n",
    "                    \"hi there . i'm feeling great! how about you ?\",\n",
    "                    \"not bad ! i am trying out this chatbot .\"\n",
    "                ]\n",
    "            },\n",
    "            {\n",
    "                \"candidates\": [\n",
    "                    \"ll something like that . do you play games ?\",\n",
    "                    \"does anything give you relief ? i hate taking medicine for mine .\",\n",
    "                    \"i decorate cakes at a local bakery ! and you ?\",\n",
    "                    \"do you eat lots of meat\",\n",
    "                    \"i am so weird that i like to collect people and cats\",\n",
    "                    \"how are your typing skills ?\",\n",
    "                    \"yeah . i am headed to the gym in a bit to weight lift .\",\n",
    "                    \"yeah you have plenty of time\",\n",
    "                    \"metal is my favorite , but i can accept that people listen to country . haha\",\n",
    "                    \"that's why you desire to be controlled . let me control you person one .\",\n",
    "                    \"two dogs they are the best , how about you ?\",\n",
    "                    \"you do art ? what kind of art do you do ?\",\n",
    "                    \"i love watching baseball outdoors on sunny days .\",\n",
    "                    \"oh i see . do you ever think about moving ? i do , it is what i want .\",\n",
    "                    \"because i am a chatbot too, silly !\"\n",
    "                ],\n",
    "                \"history\": [\n",
    "                    \"hi , how are you ?\",\n",
    "                    \"hi there . i'm feeling great! how about you ?\",\n",
    "                    \"not bad ! i am trying out this chatbot .\",\n",
    "                    \"i like to talk to chatbots too ! do you know why ? .\",\n",
    "                    \"no clue, why don't you tell me ?\"\n",
    "                ]\n",
    "            }\n",
    "        ]\n",
    "    }\n",
    "]        \n"
   ]
  },
  {
   "cell_type": "code",
   "execution_count": 35,
   "metadata": {},
   "outputs": [],
   "source": [
    "import os\n",
    "import json\n",
    "import numpy as np\n",
    "\n",
    "os.makedirs('data', exist_ok = True)\n",
    "\n",
    "with open('data/minimal_train.json', 'w') as f:\n",
    "    json.dump(minimal_train, f)\n",
    "    f.close()"
   ]
  },
  {
   "cell_type": "code",
   "execution_count": 36,
   "metadata": {},
   "outputs": [
    {
     "name": "stdout",
     "output_type": "stream",
     "text": [
      "added_tokens.json\t\tgpt_personachat_cache.tar.gz.2\truns\r\n",
      "apex\t\t\t\tgpt_personachat_cache.tar.gz.3\tsaturn_scratch\r\n",
      "cache_dir\t\t\tjupyterlab-workspace.json\tssh\r\n",
      "Chatbot_CPU.ipynb\t\tlost+found\t\t\tUntitled1.ipynb\r\n",
      "Chatbot_ST_GPU.ipynb\t\tmerges.txt\t\t\tUntitled.ipynb\r\n",
      "config.json\t\t\tmodel_training_args.bin\t\tVer1.ipynb\r\n",
      "data\t\t\t\toutputs\t\t\t\tvocab.json\r\n",
      "gpt_personachat_cache.tar.gz\tproject\r\n",
      "gpt_personachat_cache.tar.gz.1\tpytorch_model.bin\r\n"
     ]
    }
   ],
   "source": [
    "!ls"
   ]
  },
  {
   "cell_type": "code",
   "execution_count": 37,
   "metadata": {},
   "outputs": [
    {
     "name": "stdout",
     "output_type": "stream",
     "text": [
      "Requirement already satisfied: ftfy in /srv/conda/envs/saturn/lib/python3.7/site-packages (5.7)\r\n",
      "Requirement already satisfied: wcwidth in /srv/conda/envs/saturn/lib/python3.7/site-packages (from ftfy) (0.1.8)\r\n"
     ]
    }
   ],
   "source": [
    "!pip install ftfy"
   ]
  },
  {
   "cell_type": "code",
   "execution_count": 38,
   "metadata": {},
   "outputs": [
    {
     "name": "stdout",
     "output_type": "stream",
     "text": [
      "Requirement already satisfied: transformers in /srv/conda/envs/saturn/lib/python3.7/site-packages (2.8.0)\n",
      "Requirement already satisfied: regex!=2019.12.17 in /srv/conda/envs/saturn/lib/python3.7/site-packages (from transformers) (2020.4.4)\n",
      "Requirement already satisfied: tqdm>=4.27 in /srv/conda/envs/saturn/lib/python3.7/site-packages (from transformers) (4.45.0)\n",
      "Requirement already satisfied: numpy in /srv/conda/envs/saturn/lib/python3.7/site-packages (from transformers) (1.18.1)\n",
      "Requirement already satisfied: tokenizers==0.5.2 in /srv/conda/envs/saturn/lib/python3.7/site-packages (from transformers) (0.5.2)\n",
      "Requirement already satisfied: sentencepiece in /srv/conda/envs/saturn/lib/python3.7/site-packages (from transformers) (0.1.86)\n",
      "Requirement already satisfied: sacremoses in /srv/conda/envs/saturn/lib/python3.7/site-packages (from transformers) (0.0.41)\n",
      "Requirement already satisfied: requests in /srv/conda/envs/saturn/lib/python3.7/site-packages (from transformers) (2.23.0)\n",
      "Requirement already satisfied: filelock in /srv/conda/envs/saturn/lib/python3.7/site-packages (from transformers) (3.0.12)\n",
      "Requirement already satisfied: boto3 in /srv/conda/envs/saturn/lib/python3.7/site-packages (from transformers) (1.9.234)\n",
      "Requirement already satisfied: six in /srv/conda/envs/saturn/lib/python3.7/site-packages (from sacremoses->transformers) (1.14.0)\n",
      "Requirement already satisfied: joblib in /srv/conda/envs/saturn/lib/python3.7/site-packages (from sacremoses->transformers) (0.14.1)\n",
      "Requirement already satisfied: click in /srv/conda/envs/saturn/lib/python3.7/site-packages (from sacremoses->transformers) (7.0)\n",
      "Requirement already satisfied: idna<3,>=2.5 in /srv/conda/envs/saturn/lib/python3.7/site-packages (from requests->transformers) (2.8)\n",
      "Requirement already satisfied: chardet<4,>=3.0.2 in /srv/conda/envs/saturn/lib/python3.7/site-packages (from requests->transformers) (3.0.4)\n",
      "Requirement already satisfied: urllib3!=1.25.0,!=1.25.1,<1.26,>=1.21.1 in /srv/conda/envs/saturn/lib/python3.7/site-packages (from requests->transformers) (1.25.8)\n",
      "Requirement already satisfied: certifi>=2017.4.17 in /srv/conda/envs/saturn/lib/python3.7/site-packages (from requests->transformers) (2019.11.28)\n",
      "Requirement already satisfied: jmespath<1.0.0,>=0.7.1 in /srv/conda/envs/saturn/lib/python3.7/site-packages (from boto3->transformers) (0.9.4)\n",
      "Requirement already satisfied: botocore<1.13.0,>=1.12.234 in /srv/conda/envs/saturn/lib/python3.7/site-packages (from boto3->transformers) (1.12.234)\n",
      "Requirement already satisfied: s3transfer<0.3.0,>=0.2.0 in /srv/conda/envs/saturn/lib/python3.7/site-packages (from boto3->transformers) (0.2.1)\n",
      "Requirement already satisfied: python-dateutil<3.0.0,>=2.1 in /srv/conda/envs/saturn/lib/python3.7/site-packages (from botocore<1.13.0,>=1.12.234->boto3->transformers) (2.8.1)\n",
      "Requirement already satisfied: docutils<0.16,>=0.10 in /srv/conda/envs/saturn/lib/python3.7/site-packages (from botocore<1.13.0,>=1.12.234->boto3->transformers) (0.15.2)\n"
     ]
    }
   ],
   "source": [
    "!pip install transformers"
   ]
  },
  {
   "cell_type": "code",
   "execution_count": 39,
   "metadata": {},
   "outputs": [
    {
     "name": "stdout",
     "output_type": "stream",
     "text": [
      "/home/jovyan\r\n"
     ]
    }
   ],
   "source": [
    "!pwd"
   ]
  },
  {
   "cell_type": "code",
   "execution_count": 40,
   "metadata": {},
   "outputs": [
    {
     "name": "stdout",
     "output_type": "stream",
     "text": [
      "Requirement already satisfied: torch in /srv/conda/envs/saturn/lib/python3.7/site-packages (1.2.0)\r\n",
      "Requirement already satisfied: numpy in /srv/conda/envs/saturn/lib/python3.7/site-packages (from torch) (1.18.1)\r\n"
     ]
    }
   ],
   "source": [
    "!pip install torch"
   ]
  },
  {
   "cell_type": "code",
   "execution_count": 41,
   "metadata": {},
   "outputs": [
    {
     "name": "stdout",
     "output_type": "stream",
     "text": [
      "Requirement already satisfied: torchvision in /srv/conda/envs/saturn/lib/python3.7/site-packages (0.4.0)\r\n",
      "Requirement already satisfied: pillow>=4.1.1 in /srv/conda/envs/saturn/lib/python3.7/site-packages (from torchvision) (6.2.2)\r\n",
      "Requirement already satisfied: numpy in /srv/conda/envs/saturn/lib/python3.7/site-packages (from torchvision) (1.18.1)\r\n",
      "Requirement already satisfied: torch==1.2.0 in /srv/conda/envs/saturn/lib/python3.7/site-packages (from torchvision) (1.2.0)\r\n",
      "Requirement already satisfied: six in /srv/conda/envs/saturn/lib/python3.7/site-packages (from torchvision) (1.14.0)\r\n"
     ]
    }
   ],
   "source": [
    "!pip install torchvision"
   ]
  },
  {
   "cell_type": "code",
   "execution_count": 42,
   "metadata": {},
   "outputs": [
    {
     "name": "stdout",
     "output_type": "stream",
     "text": [
      "Requirement already satisfied: spacy in /srv/conda/envs/saturn/lib/python3.7/site-packages (2.2.4)\n",
      "Requirement already satisfied: setuptools in /srv/conda/envs/saturn/lib/python3.7/site-packages (from spacy) (46.0.0.post20200309)\n",
      "Requirement already satisfied: cymem<2.1.0,>=2.0.2 in /srv/conda/envs/saturn/lib/python3.7/site-packages (from spacy) (2.0.3)\n",
      "Requirement already satisfied: plac<1.2.0,>=0.9.6 in /srv/conda/envs/saturn/lib/python3.7/site-packages (from spacy) (1.1.3)\n",
      "Requirement already satisfied: tqdm<5.0.0,>=4.38.0 in /srv/conda/envs/saturn/lib/python3.7/site-packages (from spacy) (4.45.0)\n",
      "Requirement already satisfied: numpy>=1.15.0 in /srv/conda/envs/saturn/lib/python3.7/site-packages (from spacy) (1.18.1)\n",
      "Requirement already satisfied: preshed<3.1.0,>=3.0.2 in /srv/conda/envs/saturn/lib/python3.7/site-packages (from spacy) (3.0.2)\n",
      "Requirement already satisfied: murmurhash<1.1.0,>=0.28.0 in /srv/conda/envs/saturn/lib/python3.7/site-packages (from spacy) (1.0.2)\n",
      "Requirement already satisfied: catalogue<1.1.0,>=0.0.7 in /srv/conda/envs/saturn/lib/python3.7/site-packages (from spacy) (1.0.0)\n",
      "Requirement already satisfied: srsly<1.1.0,>=1.0.2 in /srv/conda/envs/saturn/lib/python3.7/site-packages (from spacy) (1.0.2)\n",
      "Requirement already satisfied: thinc==7.4.0 in /srv/conda/envs/saturn/lib/python3.7/site-packages (from spacy) (7.4.0)\n",
      "Requirement already satisfied: requests<3.0.0,>=2.13.0 in /srv/conda/envs/saturn/lib/python3.7/site-packages (from spacy) (2.23.0)\n",
      "Requirement already satisfied: wasabi<1.1.0,>=0.4.0 in /srv/conda/envs/saturn/lib/python3.7/site-packages (from spacy) (0.6.0)\n",
      "Requirement already satisfied: blis<0.5.0,>=0.4.0 in /srv/conda/envs/saturn/lib/python3.7/site-packages (from spacy) (0.4.1)\n",
      "Requirement already satisfied: importlib-metadata>=0.20; python_version < \"3.8\" in /srv/conda/envs/saturn/lib/python3.7/site-packages (from catalogue<1.1.0,>=0.0.7->spacy) (1.5.0)\n",
      "Requirement already satisfied: urllib3!=1.25.0,!=1.25.1,<1.26,>=1.21.1 in /srv/conda/envs/saturn/lib/python3.7/site-packages (from requests<3.0.0,>=2.13.0->spacy) (1.25.8)\n",
      "Requirement already satisfied: certifi>=2017.4.17 in /srv/conda/envs/saturn/lib/python3.7/site-packages (from requests<3.0.0,>=2.13.0->spacy) (2019.11.28)\n",
      "Requirement already satisfied: chardet<4,>=3.0.2 in /srv/conda/envs/saturn/lib/python3.7/site-packages (from requests<3.0.0,>=2.13.0->spacy) (3.0.4)\n",
      "Requirement already satisfied: idna<3,>=2.5 in /srv/conda/envs/saturn/lib/python3.7/site-packages (from requests<3.0.0,>=2.13.0->spacy) (2.8)\n",
      "Requirement already satisfied: zipp>=0.5 in /srv/conda/envs/saturn/lib/python3.7/site-packages (from importlib-metadata>=0.20; python_version < \"3.8\"->catalogue<1.1.0,>=0.0.7->spacy) (2.2.0)\n"
     ]
    }
   ],
   "source": [
    "!pip install spacy"
   ]
  },
  {
   "cell_type": "code",
   "execution_count": 43,
   "metadata": {},
   "outputs": [
    {
     "name": "stdout",
     "output_type": "stream",
     "text": [
      "Found existing installation: torch 1.2.0\n",
      "Uninstalling torch-1.2.0:\n",
      "  Successfully uninstalled torch-1.2.0\n"
     ]
    }
   ],
   "source": [
    "!pip uninstall torch --yes"
   ]
  },
  {
   "cell_type": "code",
   "execution_count": 44,
   "metadata": {},
   "outputs": [
    {
     "name": "stdout",
     "output_type": "stream",
     "text": [
      "Requirement already up-to-date: torchvision==0.4.0 in /srv/conda/envs/saturn/lib/python3.7/site-packages (0.4.0)\n",
      "Collecting torch==1.2.0\n",
      "  Using cached torch-1.2.0-cp37-cp37m-manylinux1_x86_64.whl (748.9 MB)\n",
      "Requirement already satisfied, skipping upgrade: six in /srv/conda/envs/saturn/lib/python3.7/site-packages (from torchvision==0.4.0) (1.14.0)\n",
      "Requirement already satisfied, skipping upgrade: numpy in /srv/conda/envs/saturn/lib/python3.7/site-packages (from torchvision==0.4.0) (1.18.1)\n",
      "Requirement already satisfied, skipping upgrade: pillow>=4.1.1 in /srv/conda/envs/saturn/lib/python3.7/site-packages (from torchvision==0.4.0) (6.2.2)\n",
      "Installing collected packages: torch\n",
      "Successfully installed torch-1.2.0\n"
     ]
    }
   ],
   "source": [
    "!pip install -U torchvision==0.4.0"
   ]
  },
  {
   "cell_type": "code",
   "execution_count": 45,
   "metadata": {},
   "outputs": [
    {
     "name": "stdout",
     "output_type": "stream",
     "text": [
      "Requirement already satisfied: torch in /srv/conda/envs/saturn/lib/python3.7/site-packages (1.2.0)\r\n",
      "Requirement already satisfied: numpy in /srv/conda/envs/saturn/lib/python3.7/site-packages (from torch) (1.18.1)\r\n"
     ]
    }
   ],
   "source": [
    "!pip install torch"
   ]
  },
  {
   "cell_type": "code",
   "execution_count": 46,
   "metadata": {},
   "outputs": [
    {
     "name": "stdout",
     "output_type": "stream",
     "text": [
      "Found existing installation: Pillow 6.2.2\n",
      "Uninstalling Pillow-6.2.2:\n",
      "  Successfully uninstalled Pillow-6.2.2\n"
     ]
    }
   ],
   "source": [
    "!pip uninstall pillow --yes"
   ]
  },
  {
   "cell_type": "code",
   "execution_count": 47,
   "metadata": {},
   "outputs": [
    {
     "name": "stdout",
     "output_type": "stream",
     "text": [
      "Collecting pillow<7\n",
      "  Using cached Pillow-6.2.2-cp37-cp37m-manylinux1_x86_64.whl (2.1 MB)\n",
      "Installing collected packages: pillow\n",
      "Successfully installed pillow-6.2.2\n"
     ]
    }
   ],
   "source": [
    "!pip install \"pillow<7\""
   ]
  },
  {
   "cell_type": "code",
   "execution_count": 48,
   "metadata": {},
   "outputs": [
    {
     "name": "stdout",
     "output_type": "stream",
     "text": [
      "Collecting pytorch\n",
      "  Using cached pytorch-1.0.2.tar.gz (689 bytes)\n",
      "Building wheels for collected packages: pytorch\n",
      "  Building wheel for pytorch (setup.py) ... \u001b[?25lerror\n",
      "\u001b[31m  ERROR: Command errored out with exit status 1:\n",
      "   command: /srv/conda/envs/saturn/bin/python -u -c 'import sys, setuptools, tokenize; sys.argv[0] = '\"'\"'/tmp/pip-install-t9g8jth6/pytorch/setup.py'\"'\"'; __file__='\"'\"'/tmp/pip-install-t9g8jth6/pytorch/setup.py'\"'\"';f=getattr(tokenize, '\"'\"'open'\"'\"', open)(__file__);code=f.read().replace('\"'\"'\\r\\n'\"'\"', '\"'\"'\\n'\"'\"');f.close();exec(compile(code, __file__, '\"'\"'exec'\"'\"'))' bdist_wheel -d /tmp/pip-wheel-rih6bdnv\n",
      "       cwd: /tmp/pip-install-t9g8jth6/pytorch/\n",
      "  Complete output (5 lines):\n",
      "  Traceback (most recent call last):\n",
      "    File \"<string>\", line 1, in <module>\n",
      "    File \"/tmp/pip-install-t9g8jth6/pytorch/setup.py\", line 15, in <module>\n",
      "      raise Exception(message)\n",
      "  Exception: You tried to install \"pytorch\". The package named for PyTorch is \"torch\"\n",
      "  ----------------------------------------\u001b[0m\n",
      "\u001b[31m  ERROR: Failed building wheel for pytorch\u001b[0m\n",
      "\u001b[?25h  Running setup.py clean for pytorch\n",
      "Failed to build pytorch\n",
      "Installing collected packages: pytorch\n",
      "    Running setup.py install for pytorch ... \u001b[?25lerror\n",
      "\u001b[31m    ERROR: Command errored out with exit status 1:\n",
      "     command: /srv/conda/envs/saturn/bin/python -u -c 'import sys, setuptools, tokenize; sys.argv[0] = '\"'\"'/tmp/pip-install-t9g8jth6/pytorch/setup.py'\"'\"'; __file__='\"'\"'/tmp/pip-install-t9g8jth6/pytorch/setup.py'\"'\"';f=getattr(tokenize, '\"'\"'open'\"'\"', open)(__file__);code=f.read().replace('\"'\"'\\r\\n'\"'\"', '\"'\"'\\n'\"'\"');f.close();exec(compile(code, __file__, '\"'\"'exec'\"'\"'))' install --record /tmp/pip-record-ny2_0in5/install-record.txt --single-version-externally-managed --compile --install-headers /srv/conda/envs/saturn/include/python3.7m/pytorch\n",
      "         cwd: /tmp/pip-install-t9g8jth6/pytorch/\n",
      "    Complete output (5 lines):\n",
      "    Traceback (most recent call last):\n",
      "      File \"<string>\", line 1, in <module>\n",
      "      File \"/tmp/pip-install-t9g8jth6/pytorch/setup.py\", line 11, in <module>\n",
      "        raise Exception(message)\n",
      "    Exception: You tried to install \"pytorch\". The package named for PyTorch is \"torch\"\n",
      "    ----------------------------------------\u001b[0m\n",
      "\u001b[31mERROR: Command errored out with exit status 1: /srv/conda/envs/saturn/bin/python -u -c 'import sys, setuptools, tokenize; sys.argv[0] = '\"'\"'/tmp/pip-install-t9g8jth6/pytorch/setup.py'\"'\"'; __file__='\"'\"'/tmp/pip-install-t9g8jth6/pytorch/setup.py'\"'\"';f=getattr(tokenize, '\"'\"'open'\"'\"', open)(__file__);code=f.read().replace('\"'\"'\\r\\n'\"'\"', '\"'\"'\\n'\"'\"');f.close();exec(compile(code, __file__, '\"'\"'exec'\"'\"'))' install --record /tmp/pip-record-ny2_0in5/install-record.txt --single-version-externally-managed --compile --install-headers /srv/conda/envs/saturn/include/python3.7m/pytorch Check the logs for full command output.\u001b[0m\n",
      "\u001b[?25h"
     ]
    }
   ],
   "source": [
    "!pip install pytorch"
   ]
  },
  {
   "cell_type": "code",
   "execution_count": 49,
   "metadata": {},
   "outputs": [
    {
     "name": "stdout",
     "output_type": "stream",
     "text": [
      "Found existing installation: torchvision 0.4.0\n",
      "Uninstalling torchvision-0.4.0:\n",
      "  Successfully uninstalled torchvision-0.4.0\n"
     ]
    }
   ],
   "source": [
    "!pip uninstall torchvision --yes"
   ]
  },
  {
   "cell_type": "code",
   "execution_count": 50,
   "metadata": {},
   "outputs": [
    {
     "name": "stdout",
     "output_type": "stream",
     "text": [
      "Collecting torchvision==0.4.0\n",
      "  Using cached torchvision-0.4.0-cp37-cp37m-manylinux1_x86_64.whl (8.8 MB)\n",
      "Requirement already satisfied, skipping upgrade: numpy in /srv/conda/envs/saturn/lib/python3.7/site-packages (from torchvision==0.4.0) (1.18.1)\n",
      "Requirement already satisfied, skipping upgrade: six in /srv/conda/envs/saturn/lib/python3.7/site-packages (from torchvision==0.4.0) (1.14.0)\n",
      "Requirement already satisfied, skipping upgrade: pillow>=4.1.1 in /srv/conda/envs/saturn/lib/python3.7/site-packages (from torchvision==0.4.0) (6.2.2)\n",
      "Requirement already satisfied, skipping upgrade: torch==1.2.0 in /srv/conda/envs/saturn/lib/python3.7/site-packages (from torchvision==0.4.0) (1.2.0)\n",
      "Installing collected packages: torchvision\n",
      "Successfully installed torchvision-0.4.0\n"
     ]
    }
   ],
   "source": [
    "!pip install -U torchvision==0.4.0"
   ]
  },
  {
   "cell_type": "code",
   "execution_count": 51,
   "metadata": {},
   "outputs": [
    {
     "name": "stdout",
     "output_type": "stream",
     "text": [
      "Found existing installation: simpletransformers 0.26.0\n",
      "Uninstalling simpletransformers-0.26.0:\n",
      "  Successfully uninstalled simpletransformers-0.26.0\n"
     ]
    }
   ],
   "source": [
    "!pip uninstall simpletransformers --yes"
   ]
  },
  {
   "cell_type": "code",
   "execution_count": 52,
   "metadata": {},
   "outputs": [
    {
     "name": "stdout",
     "output_type": "stream",
     "text": [
      "Collecting simpletransformers\n",
      "  Using cached simpletransformers-0.26.0-py3-none-any.whl (159 kB)\n",
      "Requirement already satisfied: seqeval in /srv/conda/envs/saturn/lib/python3.7/site-packages (from simpletransformers) (0.0.12)\n",
      "Requirement already satisfied: tqdm in /srv/conda/envs/saturn/lib/python3.7/site-packages (from simpletransformers) (4.45.0)\n",
      "Requirement already satisfied: scipy in /srv/conda/envs/saturn/lib/python3.7/site-packages (from simpletransformers) (1.4.1)\n",
      "Requirement already satisfied: transformers in /srv/conda/envs/saturn/lib/python3.7/site-packages (from simpletransformers) (2.8.0)\n",
      "Requirement already satisfied: numpy in /srv/conda/envs/saturn/lib/python3.7/site-packages (from simpletransformers) (1.18.1)\n",
      "Requirement already satisfied: tensorboardx in /srv/conda/envs/saturn/lib/python3.7/site-packages (from simpletransformers) (2.0)\n",
      "Requirement already satisfied: scikit-learn in /srv/conda/envs/saturn/lib/python3.7/site-packages (from simpletransformers) (0.22.1)\n",
      "Requirement already satisfied: regex in /srv/conda/envs/saturn/lib/python3.7/site-packages (from simpletransformers) (2020.4.4)\n",
      "Requirement already satisfied: pandas in /srv/conda/envs/saturn/lib/python3.7/site-packages (from simpletransformers) (0.24.2)\n",
      "Requirement already satisfied: requests in /srv/conda/envs/saturn/lib/python3.7/site-packages (from simpletransformers) (2.23.0)\n",
      "Requirement already satisfied: tokenizers in /srv/conda/envs/saturn/lib/python3.7/site-packages (from simpletransformers) (0.5.2)\n",
      "Requirement already satisfied: Keras>=2.2.4 in /srv/conda/envs/saturn/lib/python3.7/site-packages (from seqeval->simpletransformers) (2.3.1)\n",
      "Requirement already satisfied: sentencepiece in /srv/conda/envs/saturn/lib/python3.7/site-packages (from transformers->simpletransformers) (0.1.86)\n",
      "Requirement already satisfied: boto3 in /srv/conda/envs/saturn/lib/python3.7/site-packages (from transformers->simpletransformers) (1.9.234)\n",
      "Requirement already satisfied: sacremoses in /srv/conda/envs/saturn/lib/python3.7/site-packages (from transformers->simpletransformers) (0.0.41)\n",
      "Requirement already satisfied: filelock in /srv/conda/envs/saturn/lib/python3.7/site-packages (from transformers->simpletransformers) (3.0.12)\n",
      "Requirement already satisfied: six in /srv/conda/envs/saturn/lib/python3.7/site-packages (from tensorboardx->simpletransformers) (1.14.0)\n",
      "Requirement already satisfied: protobuf>=3.8.0 in /srv/conda/envs/saturn/lib/python3.7/site-packages (from tensorboardx->simpletransformers) (3.8.0)\n",
      "Requirement already satisfied: joblib>=0.11 in /srv/conda/envs/saturn/lib/python3.7/site-packages (from scikit-learn->simpletransformers) (0.14.1)\n",
      "Requirement already satisfied: python-dateutil>=2.5.0 in /srv/conda/envs/saturn/lib/python3.7/site-packages (from pandas->simpletransformers) (2.8.1)\n",
      "Requirement already satisfied: pytz>=2011k in /srv/conda/envs/saturn/lib/python3.7/site-packages (from pandas->simpletransformers) (2019.3)\n",
      "Requirement already satisfied: urllib3!=1.25.0,!=1.25.1,<1.26,>=1.21.1 in /srv/conda/envs/saturn/lib/python3.7/site-packages (from requests->simpletransformers) (1.25.8)\n",
      "Requirement already satisfied: idna<3,>=2.5 in /srv/conda/envs/saturn/lib/python3.7/site-packages (from requests->simpletransformers) (2.8)\n",
      "Requirement already satisfied: certifi>=2017.4.17 in /srv/conda/envs/saturn/lib/python3.7/site-packages (from requests->simpletransformers) (2019.11.28)\n",
      "Requirement already satisfied: chardet<4,>=3.0.2 in /srv/conda/envs/saturn/lib/python3.7/site-packages (from requests->simpletransformers) (3.0.4)\n",
      "Requirement already satisfied: keras-applications>=1.0.6 in /srv/conda/envs/saturn/lib/python3.7/site-packages (from Keras>=2.2.4->seqeval->simpletransformers) (1.0.8)\n",
      "Requirement already satisfied: keras-preprocessing>=1.0.5 in /srv/conda/envs/saturn/lib/python3.7/site-packages (from Keras>=2.2.4->seqeval->simpletransformers) (1.1.0)\n",
      "Requirement already satisfied: pyyaml in /srv/conda/envs/saturn/lib/python3.7/site-packages (from Keras>=2.2.4->seqeval->simpletransformers) (5.3)\n",
      "Requirement already satisfied: h5py in /srv/conda/envs/saturn/lib/python3.7/site-packages (from Keras>=2.2.4->seqeval->simpletransformers) (2.10.0)\n",
      "Requirement already satisfied: s3transfer<0.3.0,>=0.2.0 in /srv/conda/envs/saturn/lib/python3.7/site-packages (from boto3->transformers->simpletransformers) (0.2.1)\n",
      "Requirement already satisfied: botocore<1.13.0,>=1.12.234 in /srv/conda/envs/saturn/lib/python3.7/site-packages (from boto3->transformers->simpletransformers) (1.12.234)\n",
      "Requirement already satisfied: jmespath<1.0.0,>=0.7.1 in /srv/conda/envs/saturn/lib/python3.7/site-packages (from boto3->transformers->simpletransformers) (0.9.4)\n",
      "Requirement already satisfied: click in /srv/conda/envs/saturn/lib/python3.7/site-packages (from sacremoses->transformers->simpletransformers) (7.0)\n",
      "Requirement already satisfied: setuptools in /srv/conda/envs/saturn/lib/python3.7/site-packages (from protobuf>=3.8.0->tensorboardx->simpletransformers) (46.0.0.post20200309)\n",
      "Requirement already satisfied: docutils<0.16,>=0.10 in /srv/conda/envs/saturn/lib/python3.7/site-packages (from botocore<1.13.0,>=1.12.234->boto3->transformers->simpletransformers) (0.15.2)\n",
      "Installing collected packages: simpletransformers\n",
      "Successfully installed simpletransformers-0.26.0\n",
      "Note: you may need to restart the kernel to use updated packages.\n"
     ]
    }
   ],
   "source": [
    "pip install simpletransformers"
   ]
  },
  {
   "cell_type": "code",
   "execution_count": 53,
   "metadata": {
    "scrolled": true
   },
   "outputs": [],
   "source": [
    "#restart\n",
    "from simpletransformers.conv_ai import ConvAIModel"
   ]
  },
  {
   "cell_type": "code",
   "execution_count": 54,
   "metadata": {},
   "outputs": [
    {
     "name": "stdout",
     "output_type": "stream",
     "text": [
      "added_tokens.json\t\tgpt_personachat_cache.tar.gz.2\truns\r\n",
      "apex\t\t\t\tgpt_personachat_cache.tar.gz.3\tsaturn_scratch\r\n",
      "cache_dir\t\t\tjupyterlab-workspace.json\tssh\r\n",
      "Chatbot_CPU.ipynb\t\tlost+found\t\t\tUntitled1.ipynb\r\n",
      "Chatbot_ST_GPU.ipynb\t\tmerges.txt\t\t\tUntitled.ipynb\r\n",
      "config.json\t\t\tmodel_training_args.bin\t\tVer1.ipynb\r\n",
      "data\t\t\t\toutputs\t\t\t\tvocab.json\r\n",
      "gpt_personachat_cache.tar.gz\tproject\r\n",
      "gpt_personachat_cache.tar.gz.1\tpytorch_model.bin\r\n"
     ]
    }
   ],
   "source": [
    "!ls"
   ]
  },
  {
   "cell_type": "code",
   "execution_count": 55,
   "metadata": {},
   "outputs": [
    {
     "name": "stdout",
     "output_type": "stream",
     "text": [
      "/home/jovyan\r\n"
     ]
    }
   ],
   "source": [
    "!pwd"
   ]
  },
  {
   "cell_type": "code",
   "execution_count": 56,
   "metadata": {},
   "outputs": [],
   "source": [
    "#!pip install torch"
   ]
  },
  {
   "cell_type": "code",
   "execution_count": 57,
   "metadata": {},
   "outputs": [],
   "source": [
    "import torch"
   ]
  },
  {
   "cell_type": "code",
   "execution_count": 58,
   "metadata": {
    "scrolled": true
   },
   "outputs": [
    {
     "name": "stdout",
     "output_type": "stream",
     "text": [
      "1.2.0\n"
     ]
    }
   ],
   "source": [
    "print(torch.__version__)"
   ]
  },
  {
   "cell_type": "code",
   "execution_count": 59,
   "metadata": {},
   "outputs": [
    {
     "name": "stdout",
     "output_type": "stream",
     "text": [
      "True\n"
     ]
    }
   ],
   "source": [
    "print(torch.cuda.is_available())"
   ]
  },
  {
   "cell_type": "code",
   "execution_count": 60,
   "metadata": {},
   "outputs": [
    {
     "name": "stdout",
     "output_type": "stream",
     "text": [
      "True\n"
     ]
    }
   ],
   "source": [
    "print(torch.backends.cudnn.enabled)"
   ]
  },
  {
   "cell_type": "code",
   "execution_count": 61,
   "metadata": {},
   "outputs": [],
   "source": [
    "train_args = {\n",
    "    \"overwrite_output_dir\": True,\n",
    "    \"reprocess_input_data\": True\n",
    "}\n",
    "model = ConvAIModel(\"gpt\", \"/home/jovyan\", use_cuda=False, args=train_args) "
   ]
  },
  {
   "cell_type": "code",
   "execution_count": 62,
   "metadata": {
    "scrolled": true
   },
   "outputs": [
    {
     "data": {
      "application/vnd.jupyter.widget-view+json": {
       "model_id": "f61c9f3b39e2431db84ed8d371d5e41b",
       "version_major": 2,
       "version_minor": 0
      },
      "text/plain": [
       "HBox(children=(FloatProgress(value=0.0, max=1.0), HTML(value='')))"
      ]
     },
     "metadata": {},
     "output_type": "display_data"
    },
    {
     "name": "stdout",
     "output_type": "stream",
     "text": [
      "\n"
     ]
    },
    {
     "data": {
      "application/vnd.jupyter.widget-view+json": {
       "model_id": "e58a831fa261430d8a14786a2c9760e2",
       "version_major": 2,
       "version_minor": 0
      },
      "text/plain": [
       "HBox(children=(FloatProgress(value=0.0, description='Epoch', max=1.0, style=ProgressStyle(description_width='i…"
      ]
     },
     "metadata": {},
     "output_type": "display_data"
    },
    {
     "data": {
      "application/vnd.jupyter.widget-view+json": {
       "model_id": "67ca1aa4a1a34d17bd53cb822f260bd7",
       "version_major": 2,
       "version_minor": 0
      },
      "text/plain": [
       "HBox(children=(FloatProgress(value=0.0, description='Current iteration', max=1.0, style=ProgressStyle(descript…"
      ]
     },
     "metadata": {},
     "output_type": "display_data"
    },
    {
     "name": "stdout",
     "output_type": "stream",
     "text": [
      "Running loss: 4.799790\n",
      "\n"
     ]
    }
   ],
   "source": [
    "model.train_model(\"data/minimal_train.json\")"
   ]
  },
  {
   "cell_type": "code",
   "execution_count": null,
   "metadata": {},
   "outputs": [
    {
     "data": {
      "application/vnd.jupyter.widget-view+json": {
       "model_id": "1263bc2282724e578e719b9ce243cd38",
       "version_major": 2,
       "version_minor": 0
      },
      "text/plain": [
       "HBox(children=(FloatProgress(value=0.0, max=976.0), HTML(value='')))"
      ]
     },
     "metadata": {},
     "output_type": "display_data"
    }
   ],
   "source": [
    "model.eval_model()"
   ]
  },
  {
   "cell_type": "code",
   "execution_count": null,
   "metadata": {},
   "outputs": [],
   "source": [
    "model.interact(\n",
    "    personality=[\n",
    "        \"i like computers .\",\n",
    "        \"i like reading books .\",\n",
    "        \"i love classical music .\",\n",
    "        \"i am very outgoing .\",\n",
    "        \"I live in India\"\n",
    "    ]\n",
    ")"
   ]
  },
  {
   "cell_type": "code",
   "execution_count": null,
   "metadata": {},
   "outputs": [],
   "source": [
    "model.interact()"
   ]
  },
  {
   "cell_type": "code",
   "execution_count": null,
   "metadata": {},
   "outputs": [],
   "source": [
    "model.interact(\n",
    "    personality=[\n",
    "        \"mortgage industry is interesting\",\n",
    "        \"Loan number 123456 paid Rs 5000 in March'20\",\n",
    "    ])"
   ]
  },
  {
   "cell_type": "code",
   "execution_count": null,
   "metadata": {},
   "outputs": [],
   "source": []
  }
 ],
 "metadata": {
  "kernelspec": {
   "display_name": "Python 3",
   "language": "python",
   "name": "python3"
  }
 },
 "nbformat": 4,
 "nbformat_minor": 4
}
